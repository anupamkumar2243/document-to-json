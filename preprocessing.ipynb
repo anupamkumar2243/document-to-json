{
 "cells": [
  {
   "cell_type": "code",
   "execution_count": 1,
   "id": "003d1cd2",
   "metadata": {},
   "outputs": [],
   "source": [
    "import numpy as np\n",
    "import pandas as pd\n",
    "import string\n",
    "import re"
   ]
  },
  {
   "cell_type": "code",
   "execution_count": 2,
   "id": "52424f28",
   "metadata": {},
   "outputs": [],
   "source": [
    "with open('invoice.txt',mode='r',encoding='utf8',errors='ignore') as f:\n",
    "    text = f.read()"
   ]
  },
  {
   "cell_type": "code",
   "execution_count": 3,
   "id": "5d3f2c07",
   "metadata": {},
   "outputs": [
    {
     "data": {
      "text/plain": [
       "'id\\ttext\\ttag\\n000.jpg\\tCORPORATE\\tO\\n000.jpg\\tPACKAGING\\tO\\n000.jpg\\t&\\tO\\n000.jpg\\tPROMOTIONS\\tO\\n000.jpg\\tBill\\tO\\n000.jpg\\tof\\tO\\n000.jpg\\tLading\\tO\\n000.jpg\\tTo\\tO\\n000.jpg\\tConsignee\\tO\\n000.jpg\\t—\\tO\\n000.jpg\\tSAM\\'S\\tB-CUSTOMER_NAME\\n000.jpg\\tDIST.CTR\\tI-CUSTOMER_NAME\\n000.jpg\\t#6493\\tI-CUSTOMER_NAME\\n000.jpg\\tStreet\\tB-CUSTOMER_ADDRESS\\n000.jpg\\t1000\\tI-CUSTOMER_ADDRESS\\n000.jpg\\tS.\\tI-CUSTOMER_ADDRESS\\n000.jpg\\tCUCAMONGA\\tI-CUSTOMER_ADDRESS\\n000.jpg\\tAVE\\tI-CUSTOMER_ADDRESS\\n000.jpg\\t  \\tO\\n000.jpg\\t  \\tO\\n000.jpg\\tBILL\\tB-INVOICE_NO\\n000.jpg\\tOF\\tI-INVOICE_NO\\n000.jpg\\tLADING\\tI-INVOICE_NO\\n000.jpg\\tNUMBER:\\tI-INVOICE_NO\\n000.jpg\\t8175105\\tI-INVOICE_NO\\n000.jpg\\tPO#\\tO\\n000.jpg\\tBILL\\tO\\n000.jpg\\tDATE:\\tO\\n000.jpg\\tFROM\\tO\\n000.jpg\\tAR50\\tB-COMPANY_NAME\\n000.jpg\\tCORPORATE\\tI-COMPANY_NAME\\n000.jpg\\tPACKAGING\\tI-COMPANY_NAME\\n000.jpg\\t   \\tO\\n000.jpg\\tShipper\\tO\\n000.jpg\\t  \\tO\\n000.jpg\\t \\tO\\n000.jpg\\t    \\tO\\n000.jpg\\t \\tO\\n000.jpg\\tDestination\\tO\\n000.jpg\\t \\tO\\n000.jpg\\t \\tO\\n000.jpg\\t  \\tO\\n000.jpg\\t  \\tO\\n000.jpg\\t \\tO\\n000.jpg\\tCity/State/Zip\\tO\\n000.jpg\\t\"ONTARIO,\"\\tB-CITY\\n000.jpg\\tCA\\tI-CITY\\n000.jpg\\t91761\\tI-CITY\\n000.jpg\\t \\tO\\n000.jpg\\t \\tO\\n000.jpg\\t \\tO\\n000.jpg\\t  \\tO\\n000.jpg\\t \\tO\\n000.jpg\\tTHIRD\\tO\\n000.jpg\\tPARTY\\tO\\n000.jpg\\t\"BILLING,\"\\tO\\n000.jpg\\tSEND\\tO\\n000.jpg\\tTO\\tO\\n000.jpg\\tName\\tO\\n000.jpg\\tArizona\\tO\\n000.jpg\\tBeverages\\tO\\n000.jpg\\tLLC\\tO\\n000.jpg\\tC\\tO\\n000.jpg\\tompany\\tO\\n000.jpg\\tArizona\\tO\\n000.jpg\\tBeverages\\tO\\n000.jpg\\tLLC\\tO\\n000.jpg\\tStreet\\tO\\n000.jpg\\tCity/State/Zip\\tO\\n000.jpg\\tStreet\\tB-COMPANY_ADDRESS\\n000.jpg\\t1555\\tI-COMPANY_ADDRESS\\n000.jpg\\tS.\\tI-COMPANY_ADDRESS\\n000.jpg\\tARCHIBALD\\tI-COMPANY_ADDRESS\\n000.jpg\\tAVENUE\\tI-COMPANY_ADDRESS\\n000.jpg\\tOrigin\\tO\\n000.jpg\\tCity/State/Zip\\tB-CITY\\n000.jpg\\t\"ONTARIO,\"\\tI-CITY\\n000.jpg\\tCA\\tI-CITY\\n000.jpg\\t91761\\tI-CITY\\n000.jpg\\t \\tO\\n000.jpg\\t   \\tO\\n000.jpg\\t  \\tO\\n000.jpg\\t \\tO\\n000.jpg\\tSpecial\\tO\\n000.jpg\\tInstructions:\\tO\\n000.jpg\\tSHIPPER\\'S\\tO\\n000.jpg\\tINSTRUCTIONS\\tO\\n000.jpg\\t\\\\\\tO\\n000.jpg\\t \\tO\\n000.jpg\\t  \\tO\\n000.jpg\\t \\tO\\n000.jpg\\t \\tO\\n000.jpg\\tNO.\\tO\\n000.jpg\\tSHIPPING\\tO\\n000.jpg\\tCASES\\tO\\n000.jpg\\tNO.\\tO\\n000.jpg\\tSHIPPING\\tO\\n000.jpg\\tPALLETS\\tO\\n000.jpg\\tDESCRIPTION\\tO\\n000.jpg\\tOF\\tO\\n000.jpg\\tARTICLES\\tO\\n000.jpg\\t!\\tO\\n000.jpg\\tSPECIAL\\tO\\n000.jpg\\tMARKS\\tO\\n000.jpg\\t&\\tO\\n000.jpg\\tEXCEPTIONS:\\tO\\n000.jpg\\t \\tO\\n000.jpg\\t \\tO\\n000.jpg\\tEquip\\tO\\n000.jpg\\t317\\tO\\n000.jpg\\t7\\tO\\n000.jpg\\tEquip\\tO\\n000.jpg\\tArivat:\\tO\\n000.jpg\\t12/20/19\\tO\\n000.jpg\\t459\\tO\\n000.jpg\\tCarrier:\\tO\\n000.jpg\\tBAWB\\tO\\n000.jpg\\t°\\tO\\n000.jpg\\tSeal:\\tO\\n000.jpg\\t3289785\\tO\\n000.jpg\\tREMIT\\tO\\n000.jpg\\tC.0.D.\\tO\\n000.jpg\\tADDRESS:\\tO\\n000.jpg\\tReseal:\\tO\\n000.jpg\\tDoor/Zone:\\tO\\n000.jpg\\tDel\\tO\\n000.jpg\\tDate:\\tO\\n000.jpg\\tAPPOINTMENT\\tO\\n000.jpg\\t12/20/19\\tO\\n000.jpg\\t500\\tO\\n000.jpg\\t\\'\\tO\\n000.jpg\\thave\\tO\\n000.jpg\\tread\\tO\\n000.jpg\\tand\\tO\\n000.jpg\\tunderstan\\tO\\n000.jpg\\tAppointment\\tO\\n000.jpg\\t/\\tO\\n000.jpg\\tDrop\\tO\\n000.jpg\\tRules\\tO\\n000.jpg\\tNOTE:\\tO\\n000.jpg\\tW\\tO\\n000.jpg\\there\\tO\\n000.jpg\\tthe\\tO\\n000.jpg\\trate\\tO\\n000.jpg\\tis\\tO\\n000.jpg\\tdepende\\tO\\n000.jpg\\ton\\tO\\n000.jpg\\t\"value,\"\\tO\\n000.jpg\\tshippers\\tO\\n000.jpg\\tare\\tO\\n000.jpg\\trequired\\tO\\n000.jpg\\tto\\tO\\n000.jpg\\tState\\tO\\n000.jpg\\tspecifically\\tO\\n000.jpg\\tin\\tO\\n000.jpg\\twriting\\tO\\n000.jpg\\tthe\\tO\\n000.jpg\\tagre\\tO\\n000.jpg\\tor\\tO\\n000.jpg\\tdeclared\\tO\\n000.jpg\\tvalue\\tO\\n000.jpg\\tof\\tO\\n000.jpg\\tthe\\tO\\n000.jpg\\tProperty.\\tO\\n000.jpg\\t7\\tO\\n000.jpg\\tagreed\\tO\\n000.jpg\\tor\\tO\\n000.jpg\\tdeclared\\tO\\n000.jpg\\tvalue\\tO\\n000.jpg\\tof\\tO\\n000.jpg\\tthe\\tO\\n000.jpg\\tDriver\\tO\\n000.jpg\\tSignature:\\tO\\n000.jpg\\tProperty\\tO\\n000.jpg\\tis\\tO\\n000.jpg\\thereby\\tO\\n000.jpg\\tspecifically\\tO\\n000.jpg\\tstate\\tO\\n000.jpg\\tby\\tO\\n000.jpg\\tthe\\tO\\n000.jpg\\tshipper\\tO\\n000.jpg\\tto\\tO\\n000.jpg\\tbe\\tO\\n000.jpg\\tnot\\tO\\n000.jpg\\texceeding\\tO\\n000.jpg\\t|\\tO\\n000.jpg\\t||\\tO\\n000.jpg\\t|\\tO\\n000.jpg\\t|\\tO\\n000.jpg\\t|\\tO\\n000.jpg\\t$\\tO\\n000.jpg\\tfic.\\tO\\n000.jpg\\tper\\tO\\n000.jpg\\tRECEIVED\\tO\\n000.jpg\\tSubject\\tO\\n000.jpg\\tto\\tO\\n000.jpg\\tthe\\tO\\n000.jpg\\tclassi\\tO\\n000.jpg\\tgood\\tO\\n000.jpg\\t\"order,\"\\tO\\n000.jpg\\texcept\\tO\\n000.jpg\\tas\\tO\\n000.jpg\\tnoted\\tO\\n000.jpg\\t(conte\\tO\\n000.jpg\\tDelivery\\tO\\n000.jpg\\t94060718\\tO\\n000.jpg\\t(the\\tO\\n000.jpg\\tword\\tO\\n000.jpg\\tcarrier\\tO\\n000.jpg\\tbeing\\tO\\n000.jpg\\tunderstooc\\tO\\n000.jpg\\tagrees\\tO\\n000.jpg\\tto\\tO\\n000.jpg\\tcarry\\tO\\n000.jpg\\tto\\tO\\n000.jpg\\tits\\tO\\n000.jpg\\tusual\\tO\\n000.jpg\\tplace\\tO\\n000.jpg\\tdestination.\\tO\\n000.jpg\\tIt\\tO\\n000.jpg\\tis\\tO\\n000.jpg\\tmutually\\tO\\n000.jpg\\tagreed\\tO\\n000.jpg\\t¢\\tO\\n000.jpg\\tParty\\tO\\n000.jpg\\tat\\tO\\n000.jpg\\tany\\tO\\n000.jpg\\ttime\\tO\\n000.jpg\\tinterested\\tO\\n000.jpg\\tin\\tO\\n000.jpg\\tall\\tO\\n000.jpg\\t¢\\tO\\n000.jpg\\tand\\tO\\n000.jpg\\tconditions\\tO\\n000.jpg\\tin\\tO\\n000.jpg\\tthe\\tO\\n000.jpg\\tgoverning\\tO\\n000.jpg\\tcl\\tO\\n000.jpg\\tand\\tO\\n000.jpg\\tconditions\\tO\\n000.jpg\\tin\\tO\\n000.jpg\\tthe\\tO\\n000.jpg\\tand\\tO\\n000.jpg\\tRegulations\\tO\\n000.jpg\\tid\\tO\\n000.jpg\\tthe\\tO\\n000.jpg\\tposted\\tO\\n000.jpg\\tCopy\\tO\\n000.jpg\\tof\\tO\\n000.jpg\\tWal-Mart\\'s:\\tO\\n000.jpg\\tLY\\tO\\n000.jpg\\t \\tO\\n000.jpg\\tStatus:\\tO\\n000.jpg\\tTempt:\\tO\\n000.jpg\\tTemp2:\\tO\\n000.jpg\\tPREPAID\\tO\\n000.jpg\\tCOLLECT\\tO\\n000.jpg\\tTemp3:\\tO\\n000.jpg\\tFuel\\tO\\n000.jpg\\tLvl:7\\tO\\n000.jpg\\t25\\tO\\n000.jpg\\tDept:\\tO\\n000.jpg\\tSPLT\\tO\\n000.jpg\\tType:\\tO\\n000.jpg\\t537\\tO\\n000.jpg\\tCHARGES\\tO\\n000.jpg\\t$\\tO\\n000.jpg\\tFreight\\tO\\n000.jpg\\tCharges\\tO\\n000.jpg\\tare\\tO\\n000.jpg\\tcollect\\tO\\n000.jpg\\tunless\\tO\\n000.jpg\\tmarket\\tO\\n000.jpg\\tprepaid\\tO\\n000.jpg\\tCHECK\\tO\\n000.jpg\\tBOX\\tO\\n000.jpg\\tIF\\tO\\n000.jpg\\tPREPAID\\tO\\n000.jpg\\t \\tO\\n000.jpg\\t\\'\\tO\\n000.jpg\\tdescribed\\tO\\n000.jpg\\tabove\\tO\\n000.jpg\\tin\\tO\\n000.jpg\\tapparent\\tO\\n000.jpg\\t‘ated\\tO\\n000.jpg\\tabove\\tO\\n000.jpg\\twhich\\tO\\n000.jpg\\tsaid\\tO\\n000.jpg\\tcarrier\\tO\\n000.jpg\\t2\\tO\\n000.jpg\\tproperty\\tO\\n000.jpg\\tunder\\tO\\n000.jpg\\tthe\\tO\\n000.jpg\\tcontract)\\tO\\n000.jpg\\tCarrier\\tO\\n000.jpg\\ton\\tO\\n000.jpg\\tthe\\tO\\n000.jpg\\troute\\tO\\n000.jpg\\tto\\tO\\n000.jpg\\tsaid\\tO\\n000.jpg\\tto\\tO\\n000.jpg\\tdestination\\tO\\n000.jpg\\tand\\tO\\n000.jpg\\tas\\tO\\n000.jpg\\tto\\tO\\n000.jpg\\teach\\tO\\n000.jpg\\ttto\\tO\\n000.jpg\\tall\\tO\\n000.jpg\\tthe\\tO\\n000.jpg\\tBill\\tO\\n000.jpg\\tof\\tO\\n000.jpg\\tLading\\tO\\n000.jpg\\tterms\\tO\\n000.jpg\\tith\\tO\\n000.jpg\\tall\\tO\\n000.jpg\\tthe\\tO\\n000.jpg\\tBill\\tO\\n000.jpg\\tof\\tO\\n000.jpg\\tLading\\tO\\n000.jpg\\tterms\\tO\\n'"
      ]
     },
     "execution_count": 3,
     "metadata": {},
     "output_type": "execute_result"
    }
   ],
   "source": [
    "text"
   ]
  },
  {
   "cell_type": "code",
   "execution_count": 4,
   "id": "0c80d28d",
   "metadata": {},
   "outputs": [],
   "source": [
    "data = list(map(lambda x:x.split('\\t'),text.split('\\n')))"
   ]
  },
  {
   "cell_type": "code",
   "execution_count": 5,
   "id": "83fc213e",
   "metadata": {},
   "outputs": [],
   "source": [
    "df = pd.DataFrame(data[1:],columns=data[0])"
   ]
  },
  {
   "cell_type": "code",
   "execution_count": 6,
   "id": "9f49eb22",
   "metadata": {},
   "outputs": [
    {
     "data": {
      "text/html": [
       "<div>\n",
       "<style scoped>\n",
       "    .dataframe tbody tr th:only-of-type {\n",
       "        vertical-align: middle;\n",
       "    }\n",
       "\n",
       "    .dataframe tbody tr th {\n",
       "        vertical-align: top;\n",
       "    }\n",
       "\n",
       "    .dataframe thead th {\n",
       "        text-align: right;\n",
       "    }\n",
       "</style>\n",
       "<table border=\"1\" class=\"dataframe\">\n",
       "  <thead>\n",
       "    <tr style=\"text-align: right;\">\n",
       "      <th></th>\n",
       "      <th>id</th>\n",
       "      <th>text</th>\n",
       "      <th>tag</th>\n",
       "    </tr>\n",
       "  </thead>\n",
       "  <tbody>\n",
       "    <tr>\n",
       "      <th>0</th>\n",
       "      <td>000.jpg</td>\n",
       "      <td>CORPORATE</td>\n",
       "      <td>O</td>\n",
       "    </tr>\n",
       "    <tr>\n",
       "      <th>1</th>\n",
       "      <td>000.jpg</td>\n",
       "      <td>PACKAGING</td>\n",
       "      <td>O</td>\n",
       "    </tr>\n",
       "    <tr>\n",
       "      <th>2</th>\n",
       "      <td>000.jpg</td>\n",
       "      <td>&amp;</td>\n",
       "      <td>O</td>\n",
       "    </tr>\n",
       "    <tr>\n",
       "      <th>3</th>\n",
       "      <td>000.jpg</td>\n",
       "      <td>PROMOTIONS</td>\n",
       "      <td>O</td>\n",
       "    </tr>\n",
       "    <tr>\n",
       "      <th>4</th>\n",
       "      <td>000.jpg</td>\n",
       "      <td>Bill</td>\n",
       "      <td>O</td>\n",
       "    </tr>\n",
       "    <tr>\n",
       "      <th>5</th>\n",
       "      <td>000.jpg</td>\n",
       "      <td>of</td>\n",
       "      <td>O</td>\n",
       "    </tr>\n",
       "    <tr>\n",
       "      <th>6</th>\n",
       "      <td>000.jpg</td>\n",
       "      <td>Lading</td>\n",
       "      <td>O</td>\n",
       "    </tr>\n",
       "    <tr>\n",
       "      <th>7</th>\n",
       "      <td>000.jpg</td>\n",
       "      <td>To</td>\n",
       "      <td>O</td>\n",
       "    </tr>\n",
       "    <tr>\n",
       "      <th>8</th>\n",
       "      <td>000.jpg</td>\n",
       "      <td>Consignee</td>\n",
       "      <td>O</td>\n",
       "    </tr>\n",
       "    <tr>\n",
       "      <th>9</th>\n",
       "      <td>000.jpg</td>\n",
       "      <td>—</td>\n",
       "      <td>O</td>\n",
       "    </tr>\n",
       "  </tbody>\n",
       "</table>\n",
       "</div>"
      ],
      "text/plain": [
       "        id        text tag\n",
       "0  000.jpg   CORPORATE   O\n",
       "1  000.jpg   PACKAGING   O\n",
       "2  000.jpg           &   O\n",
       "3  000.jpg  PROMOTIONS   O\n",
       "4  000.jpg        Bill   O\n",
       "5  000.jpg          of   O\n",
       "6  000.jpg      Lading   O\n",
       "7  000.jpg          To   O\n",
       "8  000.jpg   Consignee   O\n",
       "9  000.jpg           —   O"
      ]
     },
     "execution_count": 6,
     "metadata": {},
     "output_type": "execute_result"
    }
   ],
   "source": [
    "df.head(10)"
   ]
  },
  {
   "cell_type": "code",
   "execution_count": 7,
   "id": "661bd9b9",
   "metadata": {},
   "outputs": [],
   "source": [
    "whitespace = string.whitespace\n",
    "punctuation = \"!#$%&\\'()*+:;<=>?[\\\\]^`{|}~\"\n",
    "tableWhitespace = str.maketrans('','',whitespace)\n",
    "tablePunctuation = str.maketrans('','',punctuation)\n",
    "def cleanText(txt):\n",
    "    text = str(txt)\n",
    "    text = text.lower()\n",
    "    removewhitespace = text.translate(tableWhitespace)\n",
    "    removepunctuation = removewhitespace.translate(tablePunctuation)\n",
    "    \n",
    "    return str(removepunctuation)"
   ]
  },
  {
   "cell_type": "code",
   "execution_count": 8,
   "id": "17f8e2f1",
   "metadata": {},
   "outputs": [],
   "source": [
    "df['text'] = df['text'].apply(cleanText)"
   ]
  },
  {
   "cell_type": "code",
   "execution_count": 9,
   "id": "f9422d01",
   "metadata": {},
   "outputs": [
    {
     "name": "stderr",
     "output_type": "stream",
     "text": [
      "/tmp/ipykernel_3741/3379659824.py:2: SettingWithCopyWarning: \n",
      "A value is trying to be set on a copy of a slice from a DataFrame\n",
      "\n",
      "See the caveats in the documentation: https://pandas.pydata.org/pandas-docs/stable/user_guide/indexing.html#returning-a-view-versus-a-copy\n",
      "  dataClean.dropna(inplace=True)\n"
     ]
    }
   ],
   "source": [
    "dataClean = df.query(\"text != '' \")\n",
    "dataClean.dropna(inplace=True)"
   ]
  },
  {
   "cell_type": "code",
   "execution_count": 10,
   "id": "241fdd23",
   "metadata": {},
   "outputs": [
    {
     "data": {
      "text/html": [
       "<div>\n",
       "<style scoped>\n",
       "    .dataframe tbody tr th:only-of-type {\n",
       "        vertical-align: middle;\n",
       "    }\n",
       "\n",
       "    .dataframe tbody tr th {\n",
       "        vertical-align: top;\n",
       "    }\n",
       "\n",
       "    .dataframe thead th {\n",
       "        text-align: right;\n",
       "    }\n",
       "</style>\n",
       "<table border=\"1\" class=\"dataframe\">\n",
       "  <thead>\n",
       "    <tr style=\"text-align: right;\">\n",
       "      <th></th>\n",
       "      <th>id</th>\n",
       "      <th>text</th>\n",
       "      <th>tag</th>\n",
       "    </tr>\n",
       "  </thead>\n",
       "  <tbody>\n",
       "    <tr>\n",
       "      <th>0</th>\n",
       "      <td>000.jpg</td>\n",
       "      <td>corporate</td>\n",
       "      <td>O</td>\n",
       "    </tr>\n",
       "    <tr>\n",
       "      <th>1</th>\n",
       "      <td>000.jpg</td>\n",
       "      <td>packaging</td>\n",
       "      <td>O</td>\n",
       "    </tr>\n",
       "    <tr>\n",
       "      <th>3</th>\n",
       "      <td>000.jpg</td>\n",
       "      <td>promotions</td>\n",
       "      <td>O</td>\n",
       "    </tr>\n",
       "    <tr>\n",
       "      <th>4</th>\n",
       "      <td>000.jpg</td>\n",
       "      <td>bill</td>\n",
       "      <td>O</td>\n",
       "    </tr>\n",
       "    <tr>\n",
       "      <th>5</th>\n",
       "      <td>000.jpg</td>\n",
       "      <td>of</td>\n",
       "      <td>O</td>\n",
       "    </tr>\n",
       "    <tr>\n",
       "      <th>6</th>\n",
       "      <td>000.jpg</td>\n",
       "      <td>lading</td>\n",
       "      <td>O</td>\n",
       "    </tr>\n",
       "    <tr>\n",
       "      <th>7</th>\n",
       "      <td>000.jpg</td>\n",
       "      <td>to</td>\n",
       "      <td>O</td>\n",
       "    </tr>\n",
       "    <tr>\n",
       "      <th>8</th>\n",
       "      <td>000.jpg</td>\n",
       "      <td>consignee</td>\n",
       "      <td>O</td>\n",
       "    </tr>\n",
       "    <tr>\n",
       "      <th>9</th>\n",
       "      <td>000.jpg</td>\n",
       "      <td>—</td>\n",
       "      <td>O</td>\n",
       "    </tr>\n",
       "    <tr>\n",
       "      <th>10</th>\n",
       "      <td>000.jpg</td>\n",
       "      <td>sams</td>\n",
       "      <td>B-CUSTOMER_NAME</td>\n",
       "    </tr>\n",
       "  </tbody>\n",
       "</table>\n",
       "</div>"
      ],
      "text/plain": [
       "         id        text              tag\n",
       "0   000.jpg   corporate                O\n",
       "1   000.jpg   packaging                O\n",
       "3   000.jpg  promotions                O\n",
       "4   000.jpg        bill                O\n",
       "5   000.jpg          of                O\n",
       "6   000.jpg      lading                O\n",
       "7   000.jpg          to                O\n",
       "8   000.jpg   consignee                O\n",
       "9   000.jpg           —                O\n",
       "10  000.jpg        sams  B-CUSTOMER_NAME"
      ]
     },
     "execution_count": 10,
     "metadata": {},
     "output_type": "execute_result"
    }
   ],
   "source": [
    "dataClean.head(10)"
   ]
  },
  {
   "cell_type": "code",
   "execution_count": 12,
   "id": "0a710154",
   "metadata": {},
   "outputs": [],
   "source": [
    "group = dataClean.groupby(by='id')"
   ]
  },
  {
   "cell_type": "code",
   "execution_count": 13,
   "id": "456a51e6",
   "metadata": {},
   "outputs": [],
   "source": [
    "cards = group.groups.keys()"
   ]
  },
  {
   "cell_type": "code",
   "execution_count": 15,
   "id": "3f9ba165",
   "metadata": {},
   "outputs": [],
   "source": [
    "allCardsData = []\n",
    "for card in cards:\n",
    "    cardData = []\n",
    "    grouparray = group.get_group(card)[['text','tag']].values\n",
    "    content = ''\n",
    "    annotations = {'entities':[]}\n",
    "    start = 0\n",
    "    end = 0\n",
    "    for text, label in grouparray:\n",
    "        text = str(text)\n",
    "        stringLength = len(text) + 1\n",
    "\n",
    "        start = end\n",
    "        end = start + stringLength\n",
    "\n",
    "        if label != 'O':\n",
    "            annot = (start,end-1,label)\n",
    "            annotations['entities'].append(annot)\n",
    "\n",
    "        content = content + text + ' '\n",
    "        \n",
    "        \n",
    "    cardData = (content,annotations)\n",
    "    allCardsData.append(cardData)"
   ]
  },
  {
   "cell_type": "code",
   "execution_count": 16,
   "id": "2b55baa1",
   "metadata": {},
   "outputs": [
    {
     "data": {
      "text/plain": [
       "[('corporate packaging promotions bill of lading to consignee — sams dist.ctr 6493 street 1000 s. cucamonga ave bill of lading number 8175105 po bill date from ar50 corporate packaging shipper destination city/state/zip \"ontario,\" ca 91761 third party \"billing,\" send to name arizona beverages llc c ompany arizona beverages llc street city/state/zip street 1555 s. archibald avenue origin city/state/zip \"ontario,\" ca 91761 special instructions shippers instructions no. shipping cases no. shipping pallets description of articles special marks exceptions equip 317 7 equip arivat 12/20/19 459 carrier bawb ° seal 3289785 remit c.0.d. address reseal door/zone del date appointment 12/20/19 500 have read and understan appointment / drop rules note w here the rate is depende on \"value,\" shippers are required to state specifically in writing the agre or declared value of the property. 7 agreed or declared value of the driver signature property is hereby specifically state by the shipper to be not exceeding fic. per received subject to the classi good \"order,\" except as noted conte delivery 94060718 the word carrier being understooc agrees to carry to its usual place destination. it is mutually agreed ¢ party at any time interested in all ¢ and conditions in the governing cl and conditions in the and regulations id the posted copy of wal-marts ly status tempt temp2 prepaid collect temp3 fuel lvl7 25 dept splt type 537 charges freight charges are collect unless market prepaid check box if prepaid described above in apparent ‘ated above which said carrier 2 property under the contract carrier on the route to said to destination and as to each tto all the bill of lading terms ith all the bill of lading terms ',\n",
       "  {'entities': [(61, 65, 'B-CUSTOMER_NAME'),\n",
       "    (66, 74, 'I-CUSTOMER_NAME'),\n",
       "    (75, 79, 'I-CUSTOMER_NAME'),\n",
       "    (80, 86, 'B-CUSTOMER_ADDRESS'),\n",
       "    (87, 91, 'I-CUSTOMER_ADDRESS'),\n",
       "    (92, 94, 'I-CUSTOMER_ADDRESS'),\n",
       "    (95, 104, 'I-CUSTOMER_ADDRESS'),\n",
       "    (105, 108, 'I-CUSTOMER_ADDRESS'),\n",
       "    (109, 113, 'B-INVOICE_NO'),\n",
       "    (114, 116, 'I-INVOICE_NO'),\n",
       "    (117, 123, 'I-INVOICE_NO'),\n",
       "    (124, 130, 'I-INVOICE_NO'),\n",
       "    (131, 138, 'I-INVOICE_NO'),\n",
       "    (157, 161, 'B-COMPANY_NAME'),\n",
       "    (162, 171, 'I-COMPANY_NAME'),\n",
       "    (172, 181, 'I-COMPANY_NAME'),\n",
       "    (217, 227, 'B-CITY'),\n",
       "    (228, 230, 'I-CITY'),\n",
       "    (231, 236, 'I-CITY'),\n",
       "    (348, 354, 'B-COMPANY_ADDRESS'),\n",
       "    (355, 359, 'I-COMPANY_ADDRESS'),\n",
       "    (360, 362, 'I-COMPANY_ADDRESS'),\n",
       "    (363, 372, 'I-COMPANY_ADDRESS'),\n",
       "    (373, 379, 'I-COMPANY_ADDRESS'),\n",
       "    (387, 401, 'B-CITY'),\n",
       "    (402, 412, 'I-CITY'),\n",
       "    (413, 415, 'I-CITY'),\n",
       "    (416, 421, 'I-CITY')]})]"
      ]
     },
     "execution_count": 16,
     "metadata": {},
     "output_type": "execute_result"
    }
   ],
   "source": [
    "allCardsData"
   ]
  },
  {
   "cell_type": "code",
   "execution_count": 17,
   "id": "238da2ad",
   "metadata": {},
   "outputs": [],
   "source": [
    "import random"
   ]
  },
  {
   "cell_type": "code",
   "execution_count": 18,
   "id": "3faab08b",
   "metadata": {},
   "outputs": [],
   "source": [
    "random.shuffle(allCardsData)"
   ]
  },
  {
   "cell_type": "code",
   "execution_count": 19,
   "id": "5d5dfdb0",
   "metadata": {},
   "outputs": [
    {
     "data": {
      "text/plain": [
       "1"
      ]
     },
     "execution_count": 19,
     "metadata": {},
     "output_type": "execute_result"
    }
   ],
   "source": [
    "len(allCardsData)"
   ]
  },
  {
   "cell_type": "code",
   "execution_count": 20,
   "id": "a9711369",
   "metadata": {},
   "outputs": [],
   "source": [
    "TrainData = allCardsData[:1]\n",
    "TestData = allCardsData[1:]"
   ]
  },
  {
   "cell_type": "code",
   "execution_count": 21,
   "id": "51bc47be",
   "metadata": {},
   "outputs": [],
   "source": [
    "import pickle"
   ]
  },
  {
   "cell_type": "code",
   "execution_count": 22,
   "id": "7a8e9a72",
   "metadata": {},
   "outputs": [],
   "source": [
    "pickle.dump(TrainData,open('./data/TrainData.pickle',mode='wb'))\n",
    "pickle.dump(TestData,open('./data/TestData.pickle',mode='wb'))"
   ]
  },
  {
   "cell_type": "code",
   "execution_count": null,
   "id": "e68eb24e",
   "metadata": {},
   "outputs": [],
   "source": []
  }
 ],
 "metadata": {
  "kernelspec": {
   "display_name": "Python 3 (ipykernel)",
   "language": "python",
   "name": "python3"
  },
  "language_info": {
   "codemirror_mode": {
    "name": "ipython",
    "version": 3
   },
   "file_extension": ".py",
   "mimetype": "text/x-python",
   "name": "python",
   "nbconvert_exporter": "python",
   "pygments_lexer": "ipython3",
   "version": "3.8.10"
  }
 },
 "nbformat": 4,
 "nbformat_minor": 5
}
