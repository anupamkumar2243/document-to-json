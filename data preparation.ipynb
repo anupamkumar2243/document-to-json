{
 "cells": [
  {
   "cell_type": "code",
   "execution_count": 1,
   "id": "cfa48949",
   "metadata": {},
   "outputs": [],
   "source": [
    "import numpy as np\n",
    "import pandas as pd\n",
    "import cv2\n",
    "import pytesseract\n",
    "\n",
    "import os\n",
    "from glob import glob\n",
    "from tqdm import tqdm\n",
    "\n",
    "import warnings\n",
    "warnings.filterwarnings('ignore')"
   ]
  },
  {
   "cell_type": "code",
   "execution_count": 4,
   "id": "f9505505",
   "metadata": {},
   "outputs": [],
   "source": [
    "img_paths = glob('./images/*.png')"
   ]
  },
  {
   "cell_type": "code",
   "execution_count": 6,
   "id": "e36a4fa1",
   "metadata": {},
   "outputs": [
    {
     "data": {
      "text/plain": [
       "['./images/invoice3.png',\n",
       " './images/invoice4.png',\n",
       " './images/invoice2.png',\n",
       " './images/invoice1.png']"
      ]
     },
     "execution_count": 6,
     "metadata": {},
     "output_type": "execute_result"
    }
   ],
   "source": [
    "img_paths"
   ]
  },
  {
   "cell_type": "code",
   "execution_count": 8,
   "id": "d3a7690b",
   "metadata": {},
   "outputs": [
    {
     "name": "stderr",
     "output_type": "stream",
     "text": [
      "BusinessCard: 100%|███████████████████████████████| 4/4 [00:02<00:00,  1.40it/s]\n"
     ]
    }
   ],
   "source": [
    "all_invoices = pd.DataFrame(columns=['id','text'])\n",
    "\n",
    "for img_path in  tqdm(img_paths,desc='BusinessCard'):\n",
    "    \n",
    "    #imgPath = imgPaths[0]\n",
    "    _, filename = os.path.split(img_path)\n",
    "    # extract data and text \n",
    "    image = cv2.imread(img_path)\n",
    "    data = pytesseract.image_to_data(image)\n",
    "    dataList = list(map(lambda x: x.split('\\t'),data.split('\\n')))\n",
    "    df = pd.DataFrame(dataList[1:],columns=dataList[0])\n",
    "    df.dropna(inplace=True)\n",
    "    df['conf'] = df['conf'].astype(int)\n",
    "\n",
    "    useFulData = df.query('conf >= 30')\n",
    "\n",
    "    # Dataframe\n",
    "    invoice = pd.DataFrame()\n",
    "    invoice['text'] = useFulData['text']\n",
    "    invoice['id'] = filename\n",
    "    \n",
    "    # concatenation\n",
    "    all_invoices = pd.concat((all_invoices,invoice))"
   ]
  },
  {
   "cell_type": "code",
   "execution_count": 9,
   "id": "9f1619a1",
   "metadata": {},
   "outputs": [
    {
     "data": {
      "text/html": [
       "<div>\n",
       "<style scoped>\n",
       "    .dataframe tbody tr th:only-of-type {\n",
       "        vertical-align: middle;\n",
       "    }\n",
       "\n",
       "    .dataframe tbody tr th {\n",
       "        vertical-align: top;\n",
       "    }\n",
       "\n",
       "    .dataframe thead th {\n",
       "        text-align: right;\n",
       "    }\n",
       "</style>\n",
       "<table border=\"1\" class=\"dataframe\">\n",
       "  <thead>\n",
       "    <tr style=\"text-align: right;\">\n",
       "      <th></th>\n",
       "      <th>id</th>\n",
       "      <th>text</th>\n",
       "    </tr>\n",
       "  </thead>\n",
       "  <tbody>\n",
       "    <tr>\n",
       "      <th>4</th>\n",
       "      <td>invoice3.png</td>\n",
       "      <td>1912</td>\n",
       "    </tr>\n",
       "    <tr>\n",
       "      <th>5</th>\n",
       "      <td>invoice3.png</td>\n",
       "      <td>Harvest</td>\n",
       "    </tr>\n",
       "    <tr>\n",
       "      <th>6</th>\n",
       "      <td>invoice3.png</td>\n",
       "      <td>Lane</td>\n",
       "    </tr>\n",
       "    <tr>\n",
       "      <th>12</th>\n",
       "      <td>invoice3.png</td>\n",
       "      <td></td>\n",
       "    </tr>\n",
       "    <tr>\n",
       "      <th>13</th>\n",
       "      <td>invoice3.png</td>\n",
       "      <td></td>\n",
       "    </tr>\n",
       "    <tr>\n",
       "      <th>...</th>\n",
       "      <td>...</td>\n",
       "      <td>...</td>\n",
       "    </tr>\n",
       "    <tr>\n",
       "      <th>120</th>\n",
       "      <td>invoice1.png</td>\n",
       "      <td>card</td>\n",
       "    </tr>\n",
       "    <tr>\n",
       "      <th>121</th>\n",
       "      <td>invoice1.png</td>\n",
       "      <td>payment:</td>\n",
       "    </tr>\n",
       "    <tr>\n",
       "      <th>122</th>\n",
       "      <td>invoice1.png</td>\n",
       "      <td>$685.35</td>\n",
       "    </tr>\n",
       "    <tr>\n",
       "      <th>123</th>\n",
       "      <td>invoice1.png</td>\n",
       "      <td>(Visa,</td>\n",
       "    </tr>\n",
       "    <tr>\n",
       "      <th>124</th>\n",
       "      <td>invoice1.png</td>\n",
       "      <td>XXXX-XXXX-XXXX-1111)</td>\n",
       "    </tr>\n",
       "  </tbody>\n",
       "</table>\n",
       "<p>371 rows × 2 columns</p>\n",
       "</div>"
      ],
      "text/plain": [
       "               id                  text\n",
       "4    invoice3.png                  1912\n",
       "5    invoice3.png               Harvest\n",
       "6    invoice3.png                  Lane\n",
       "12   invoice3.png                      \n",
       "13   invoice3.png                      \n",
       "..            ...                   ...\n",
       "120  invoice1.png                  card\n",
       "121  invoice1.png              payment:\n",
       "122  invoice1.png               $685.35\n",
       "123  invoice1.png                (Visa,\n",
       "124  invoice1.png  XXXX-XXXX-XXXX-1111)\n",
       "\n",
       "[371 rows x 2 columns]"
      ]
     },
     "execution_count": 9,
     "metadata": {},
     "output_type": "execute_result"
    }
   ],
   "source": [
    "all_invoices"
   ]
  },
  {
   "cell_type": "code",
   "execution_count": 10,
   "id": "625d4006",
   "metadata": {},
   "outputs": [],
   "source": [
    "all_invoices.to_csv('invoice.csv', index=False)"
   ]
  },
  {
   "cell_type": "code",
   "execution_count": null,
   "id": "67d4b33d",
   "metadata": {},
   "outputs": [],
   "source": []
  }
 ],
 "metadata": {
  "kernelspec": {
   "display_name": "Python 3 (ipykernel)",
   "language": "python",
   "name": "python3"
  },
  "language_info": {
   "codemirror_mode": {
    "name": "ipython",
    "version": 3
   },
   "file_extension": ".py",
   "mimetype": "text/x-python",
   "name": "python",
   "nbconvert_exporter": "python",
   "pygments_lexer": "ipython3",
   "version": "3.8.10"
  }
 },
 "nbformat": 4,
 "nbformat_minor": 5
}
